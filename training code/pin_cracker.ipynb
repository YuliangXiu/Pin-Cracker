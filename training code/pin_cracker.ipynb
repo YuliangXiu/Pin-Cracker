{
 "cells": [
  {
   "cell_type": "code",
   "execution_count": 324,
   "metadata": {
    "collapsed": true
   },
   "outputs": [],
   "source": [
    "from keras.models import Sequential  \n",
    "from keras.layers.core import Dense, Activation, Flatten, Dropout\n",
    "from keras.layers import Bidirectional\n",
    "from keras.layers.recurrent import LSTM, SimpleRNN, GRU\n",
    "from keras.layers.normalization import BatchNormalization\n",
    "from keras import optimizers\n",
    "from keras.layers import Input\n",
    "from keras import backend as K\n",
    "import tensorflow as tf\n",
    "from keras.callbacks import EarlyStopping, ModelCheckpoint\n",
    "from sklearn.model_selection import train_test_split\n",
    "import numpy as np\n",
    "import os\n",
    "import time, datetime\n",
    "import pickle\n",
    "\n",
    "# pin data process\n",
    "with open('pin_data_1500') as f:\n",
    "    orig_pin_data = f.readlines()\n",
    "    reg_pin_data = np.zeros((len(orig_pin_data),4))\n",
    "    for row in range(len(orig_pin_data)):\n",
    "        for col in range(4):\n",
    "            reg_pin_data[row][col] = int(orig_pin_data[row][col])\n",
    "\n",
    "with open('pin_data.pkl','wb') as f:\n",
    "    pickle.dump(reg_pin_data, f)\n",
    "with open('pin_data.pkl','r') as f:\n",
    "    pin_data = pickle.load(f)\n",
    "\n",
    "# motion data process\n",
    "orig_motion_data = np.loadtxt('motion_data_1500')\n",
    "reg_motion_data = orig_motion_data.reshape(len(orig_motion_data)/8,4,-1)\n",
    "with open('motion_data.pkl','wb') as f:\n",
    "    pickle.dump(reg_motion_data, f)\n",
    "with open('motion_data.pkl','r') as f:\n",
    "    motion_data = pickle.load(f)"
   ]
  },
  {
   "cell_type": "code",
   "execution_count": 325,
   "metadata": {},
   "outputs": [
    {
     "name": "stdout",
     "output_type": "stream",
     "text": [
      "(1506, 4)\n",
      "(1506, 4, 24)\n"
     ]
    }
   ],
   "source": [
    "print pin_data.shape\n",
    "print motion_data.shape"
   ]
  },
  {
   "cell_type": "code",
   "execution_count": 359,
   "metadata": {
    "collapsed": true
   },
   "outputs": [],
   "source": [
    "X_train, X_valid, y_train, y_valid = train_test_split(motion_data, pin_data, test_size=0.1)\n",
    "# X_train = X_train.reshape((len(X_train),-1))\n",
    "# X_valid = X_valid.reshape((len(X_valid),-1))\n",
    "# from sklearn.preprocessing import StandardScaler\n",
    "# ss = StandardScaler()\n",
    "# ss.fit(np.vstack((X_train, X_valid)))\n",
    "# X_train = ss.transform(X_train)\n",
    "# X_valid = ss.transform(X_valid)\n",
    "\n",
    "# X_train = X_train.reshape((len(X_train),4,-1))\n",
    "# X_valid = X_valid.reshape((len(X_valid),4,-1))"
   ]
  },
  {
   "cell_type": "code",
   "execution_count": 360,
   "metadata": {
    "collapsed": true
   },
   "outputs": [],
   "source": [
    "def convertToOneHot(vector, num_classes=10):\n",
    "    vector = vector.astype(int)\n",
    "    assert isinstance(vector, np.ndarray)\n",
    "    assert len(vector) > 0\n",
    "\n",
    "    result = np.zeros(shape=(len(vector), 4, num_classes))\n",
    "    for i in range(4):\n",
    "        result[np.arange(len(vector)), i, vector[:,i]] = 1\n",
    "    return result.astype(int)\n",
    "\n",
    "def convertToNumber(array):\n",
    "    result = np.zeros((len(array),4))\n",
    "    for row in range(len(array)):\n",
    "        for col in range(4):\n",
    "            result[row][col] = np.argmax(array[row][col])\n",
    "    return result.astype(int)\n",
    "\n",
    "y_train_oh = convertToOneHot(y_train)\n",
    "y_valid_oh = convertToOneHot(y_valid)\n",
    "# y_train_oh = convertToOneHot(y_train).reshape((len(y_train),-1))\n",
    "# y_valid_oh = convertToOneHot(y_valid).reshape((len(y_valid),-1))"
   ]
  },
  {
   "cell_type": "code",
   "execution_count": 379,
   "metadata": {},
   "outputs": [
    {
     "name": "stdout",
     "output_type": "stream",
     "text": [
      "____________________________________________________________________________________________________\n",
      "Layer (type)                     Output Shape          Param #     Connected to                     \n",
      "====================================================================================================\n",
      "lstm_56 (LSTM)                   (None, 4, 50)         15000       lstm_input_37[0][0]              \n",
      "____________________________________________________________________________________________________\n",
      "dense_207 (Dense)                (None, 4, 1000)       51000       lstm_56[0][0]                    \n",
      "____________________________________________________________________________________________________\n",
      "batchnormalization_140 (BatchNor (None, 4, 1000)       4000        dense_207[0][0]                  \n",
      "____________________________________________________________________________________________________\n",
      "dropout_140 (Dropout)            (None, 4, 1000)       0           batchnormalization_140[0][0]     \n",
      "____________________________________________________________________________________________________\n",
      "dense_208 (Dense)                (None, 4, 1000)       1001000     dropout_140[0][0]                \n",
      "____________________________________________________________________________________________________\n",
      "batchnormalization_141 (BatchNor (None, 4, 1000)       4000        dense_208[0][0]                  \n",
      "____________________________________________________________________________________________________\n",
      "dropout_141 (Dropout)            (None, 4, 1000)       0           batchnormalization_141[0][0]     \n",
      "____________________________________________________________________________________________________\n",
      "dense_209 (Dense)                (None, 4, 1000)       1001000     dropout_141[0][0]                \n",
      "____________________________________________________________________________________________________\n",
      "batchnormalization_142 (BatchNor (None, 4, 1000)       4000        dense_209[0][0]                  \n",
      "____________________________________________________________________________________________________\n",
      "dropout_142 (Dropout)            (None, 4, 1000)       0           batchnormalization_142[0][0]     \n",
      "____________________________________________________________________________________________________\n",
      "dense_210 (Dense)                (None, 4, 1000)       1001000     dropout_142[0][0]                \n",
      "____________________________________________________________________________________________________\n",
      "batchnormalization_143 (BatchNor (None, 4, 1000)       4000        dense_210[0][0]                  \n",
      "____________________________________________________________________________________________________\n",
      "dropout_143 (Dropout)            (None, 4, 1000)       0           batchnormalization_143[0][0]     \n",
      "____________________________________________________________________________________________________\n",
      "dense_211 (Dense)                (None, 4, 1000)       1001000     dropout_143[0][0]                \n",
      "____________________________________________________________________________________________________\n",
      "batchnormalization_144 (BatchNor (None, 4, 1000)       4000        dense_211[0][0]                  \n",
      "____________________________________________________________________________________________________\n",
      "dropout_144 (Dropout)            (None, 4, 1000)       0           batchnormalization_144[0][0]     \n",
      "____________________________________________________________________________________________________\n",
      "dense_212 (Dense)                (None, 4, 10)         10010       dropout_144[0][0]                \n",
      "____________________________________________________________________________________________________\n",
      "activation_67 (Activation)       (None, 4, 10)         0           dense_212[0][0]                  \n",
      "====================================================================================================\n",
      "Total params: 4,100,010\n",
      "Trainable params: 4,090,010\n",
      "Non-trainable params: 10,000\n",
      "____________________________________________________________________________________________________\n"
     ]
    }
   ],
   "source": [
    "os.environ[\"CUDA_VISIBLE_DEVICES\"]=\"0\"\n",
    "\n",
    "model = Sequential()\n",
    "model.add(LSTM(50, return_sequences=True, input_shape=(4,24)))\n",
    "model.add(Dense(1000))\n",
    "model.add(BatchNormalization())\n",
    "model.add(Dropout(0.1))\n",
    "model.add(Dense(1000))\n",
    "model.add(BatchNormalization())\n",
    "model.add(Dropout(0.1))\n",
    "model.add(Dense(1000))\n",
    "model.add(BatchNormalization())\n",
    "model.add(Dropout(0.1))\n",
    "model.add(Dense(1000))\n",
    "model.add(BatchNormalization())\n",
    "model.add(Dropout(0.1))\n",
    "model.add(Dense(1000))\n",
    "model.add(BatchNormalization())\n",
    "model.add(Dropout(0.1))\n",
    "model.add(Dense(10))\n",
    "model.add(Activation('sigmoid'))\n",
    "model.summary()\n",
    "model.compile(loss='categorical_crossentropy', optimizer='nadam', metrics=['acc', 'categorical_accuracy'])"
   ]
  },
  {
   "cell_type": "code",
   "execution_count": 380,
   "metadata": {},
   "outputs": [
    {
     "name": "stdout",
     "output_type": "stream",
     "text": [
      "Training ended at 2017-06-29 13:09:40.891001\n",
      "Minutes elapsed:  3.22259523074\n"
     ]
    }
   ],
   "source": [
    "t0 = time.time()\n",
    "# early_stopping =EarlyStopping(monitor='acc', patience=3)\n",
    "bst_model_path = 'rnn_model.h5'\n",
    "\n",
    "model_checkpoint = ModelCheckpoint(bst_model_path, monitor='val_acc',save_best_only=True, save_weights_only=True)\n",
    "# model.load_weights(bst_model_path)\n",
    "history = model.fit(X_train,y_train_oh , \\\n",
    "        validation_data=(X_valid, y_valid_oh), \\\n",
    "        nb_epoch=2000, batch_size=100000, shuffle=True,verbose=0, \\\n",
    "        callbacks=[model_checkpoint])\n",
    "t1=time.time()\n",
    "print \"Training ended at\", datetime.datetime.now()\n",
    "print \"Minutes elapsed: \" ,(t1 - t0) / 60.0\n"
   ]
  },
  {
   "cell_type": "code",
   "execution_count": 381,
   "metadata": {},
   "outputs": [
    {
     "name": "stdout",
     "output_type": "stream",
     "text": [
      "0 : lstm_input_37, <keras.engine.topology.InputLayer object at 0x7f2c2cfa2ad0>\n",
      "1 : lstm_56, <keras.layers.recurrent.LSTM object at 0x7f2c2e5a6a90>\n",
      "2 : dense_207, <keras.layers.core.Dense object at 0x7f2c2cfcc950>\n",
      "3 : batchnormalization_140, <keras.layers.normalization.BatchNormalization object at 0x7f2c29c6f610>\n",
      "4 : dense_208, <keras.layers.core.Dense object at 0x7f2c29b05350>\n",
      "5 : batchnormalization_141, <keras.layers.normalization.BatchNormalization object at 0x7f2c29ae0490>\n",
      "6 : dense_209, <keras.layers.core.Dense object at 0x7f2c29a44a50>\n",
      "7 : batchnormalization_142, <keras.layers.normalization.BatchNormalization object at 0x7f2c29a1cb90>\n",
      "8 : dense_210, <keras.layers.core.Dense object at 0x7f2c29992790>\n",
      "9 : batchnormalization_143, <keras.layers.normalization.BatchNormalization object at 0x7f2c2996a350>\n",
      "10 : dense_211, <keras.layers.core.Dense object at 0x7f2c298ce910>\n",
      "11 : batchnormalization_144, <keras.layers.normalization.BatchNormalization object at 0x7f2c298a8a50>\n",
      "12 : dense_212, <keras.layers.core.Dense object at 0x7f2c2981e650>\n",
      "13 : activation_67, <keras.layers.core.Activation object at 0x7f2c2977a210>\n"
     ]
    }
   ],
   "source": [
    "import coremltools\n",
    "coreml_model = coremltools.converters.keras.convert(model)\n",
    "coreml_model.save('rnn_model.mlmodel')"
   ]
  },
  {
   "cell_type": "code",
   "execution_count": 382,
   "metadata": {},
   "outputs": [
    {
     "data": {
      "image/png": "[encoded data removed]",
      "text/plain": [
       "<matplotlib.figure.Figure at 0x7f2c27a88b90>"
      ]
     },
     "metadata": {},
     "output_type": "display_data"
    }
   ],
   "source": [
    "import pandas as pd\n",
    "%matplotlib inline\n",
    "acc = pd.DataFrame({'epoch': [ i + 1 for i in history.epoch ],\n",
    "                    'validation': history.history['val_acc'],\n",
    "                   'categorical_accuracy': history.history['categorical_accuracy']})\n",
    "ax = acc.ix[:,:].plot(x='epoch', figsize={5,8}, grid=True)\n",
    "ax.set_ylabel(\"accuracy\")\n",
    "ax.set_ylim([0.0,1.0]);"
   ]
  },
  {
   "cell_type": "code",
   "execution_count": 383,
   "metadata": {},
   "outputs": [
    {
     "name": "stdout",
     "output_type": "stream",
     "text": [
      "151/151 [==============================] - 6s\n",
      "true pin:\n",
      "[[0 3 0 4]\n",
      " [8 1 8 1]\n",
      " [3 5 4 2]\n",
      " [5 1 5 1]\n",
      " [4 8 2 5]\n",
      " [4 5 7 8]\n",
      " [2 3 4 5]\n",
      " [8 5 2 3]\n",
      " [2 3 6 5]\n",
      " [5 4 7 8]]\n",
      "predicted pin:\n",
      "[[0 2 7 2]\n",
      " [8 1 0 4]\n",
      " [3 5 4 2]\n",
      " [2 1 9 1]\n",
      " [1 6 4 8]\n",
      " [4 5 8 0]\n",
      " [2 5 1 5]\n",
      " [0 5 4 5]\n",
      " [2 3 6 5]\n",
      " [5 4 5 5]]\n",
      "average diff: \n",
      "6.75496688742\n"
     ]
    }
   ],
   "source": [
    "# results = model.predict(X_train[:10,:],batch_size=4096, verbose=1)\n",
    "# print y_train[:10,:].astype(int)\n",
    "# print convertToNumber(results)\n",
    "\n",
    "results = model.predict(X_valid,batch_size=4096, verbose=1)\n",
    "print 'true pin:'\n",
    "print y_valid[:10,:].astype(int)\n",
    "print 'predicted pin:'\n",
    "print convertToNumber(results[:10,:])\n",
    "print \"average diff: \"\n",
    "print np.sum(np.abs((y_valid-convertToNumber(results))))/len(y_valid)\n",
    "# print y_valid[:10,:]-convertToNumber(results)[:10,:]"
   ]
  },
  {
   "cell_type": "code",
   "execution_count": null,
   "metadata": {
    "collapsed": true
   },
   "outputs": [],
   "source": []
  }
 ],
 "metadata": {
  "kernelspec": {
   "display_name": "Python 2",
   "language": "python",
   "name": "python2"
  },
  "language_info": {
   "codemirror_mode": {
    "name": "ipython",
    "version": 2
   },
   "file_extension": ".py",
   "mimetype": "text/x-python",
   "name": "python",
   "nbconvert_exporter": "python",
   "pygments_lexer": "ipython2",
   "version": "2.7.6"
  }
 },
 "nbformat": 4,
 "nbformat_minor": 2
}
